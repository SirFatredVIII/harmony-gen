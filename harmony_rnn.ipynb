{
 "cells": [
  {
   "cell_type": "code",
   "execution_count": 1,
   "metadata": {},
   "outputs": [],
   "source": [
    "import tensorflow as tf\n",
    "from tensorflow.keras.models import Sequential\n",
    "from tensorflow.keras.layers import LSTM, Dense, TimeDistributed, Activation\n",
    "import numpy as np\n",
    "import pretty_midi\n",
    "import os\n",
    "import matplotlib.pyplot as plt"
   ]
  },
  {
   "cell_type": "code",
   "execution_count": 2,
   "metadata": {},
   "outputs": [],
   "source": [
    "np.random.seed(42)\n",
    "tf.random.set_seed(42)"
   ]
  },
  {
   "cell_type": "code",
   "execution_count": 3,
   "metadata": {},
   "outputs": [],
   "source": [
    "# CHANGE PATH AS NECESSARY\n",
    "PATH = 'music_data'"
   ]
  },
  {
   "cell_type": "code",
   "execution_count": 8,
   "metadata": {},
   "outputs": [],
   "source": [
    "def load_midi_files(path):\n",
    "    songs = []\n",
    "\n",
    "    with tf.device('/GPU:0'):\n",
    "        for folder in os.listdir(path):\n",
    "            if folder == '..LICENSING':\n",
    "                continue\n",
    "            if not os.path.isdir(os.path.join(path, folder)):\n",
    "                continue\n",
    "            for file_name in os.listdir(os.path.join(path, folder)):\n",
    "                try:\n",
    "                    midi = pretty_midi.PrettyMIDI(os.path.join(path, folder, file_name))\n",
    "                    songs.append(midi)\n",
    "                except Exception as e:\n",
    "                    continue\n",
    "    return songs"
   ]
  },
  {
   "cell_type": "code",
   "execution_count": 9,
   "metadata": {},
   "outputs": [
    {
     "name": "stderr",
     "output_type": "stream",
     "text": [
      "/Users/nathanvandrie/Documents/VSCode-Workspace/GenAI/harmony-gen/.venv/lib/python3.12/site-packages/pretty_midi/pretty_midi.py:100: RuntimeWarning: Tempo, Key or Time signature change events found on non-zero tracks.  This is not a valid type 0 or type 1 MIDI file.  Tempo, Key or Time Signature may be wrong.\n",
      "  warnings.warn(\n"
     ]
    }
   ],
   "source": [
    "songs = load_midi_files(PATH)"
   ]
  },
  {
   "cell_type": "code",
   "execution_count": 10,
   "metadata": {},
   "outputs": [
    {
     "name": "stdout",
     "output_type": "stream",
     "text": [
      "[0, 33, 25, 48, 27, 29, 35, 30, 52, 32, 24, 26, 28, 49, 1, 50, 53, 65, 61, 73, 18, 4, 5, 16, 56, 54, 81, 66, 11, 62, 34, 57, 119, 89, 17, 38, 39, 60, 90, 75, 88, 2, 87, 40, 80, 82, 22, 71, 127, 8, 68, 63, 7, 3, 51, 46, 100, 31, 95, 6, 67, 91, 36, 85, 47, 45, 37, 99, 94, 9, 64, 84, 78, 12, 118, 44, 21, 58, 120, 72, 122, 10, 14, 42, 55, 79, 59, 93, 43, 74, 126, 117, 104, 19, 103, 102, 98, 105, 41, 92, 70, 116, 83, 23, 69, 20, 114, 96, 115, 124, 77, 125, 76, 97, 101, 108, 110, 13, 106, 112, 107, 15, 109, 86, 113, 123, 121, 111]\n"
     ]
    }
   ],
   "source": [
    "from collections import defaultdict\n",
    "\n",
    "def get_codes():\n",
    "    program_count = defaultdict(int)\n",
    "    for song in songs:\n",
    "        unique_programs = {instrument.program for instrument in song.instruments}\n",
    "        for program in unique_programs:\n",
    "            program_count[program] += 1\n",
    "\n",
    "    return dict(program_count)\n",
    "\n",
    "codes = get_codes()\n",
    "print(sorted(codes, key=codes.get, reverse=True))"
   ]
  },
  {
   "cell_type": "code",
   "execution_count": null,
   "metadata": {},
   "outputs": [],
   "source": [
    "# import pickle\n",
    "\n",
    "# def save_data(data):\n",
    "#     with open('music_data.pkl', 'wb') as f:\n",
    "#         pickle.dump(data, f)\n",
    "\n",
    "# def load_data():\n",
    "#     with open('music_data.pkl', 'rb') as f:\n",
    "#         loaded_data = pickle.load(f)\n",
    "#     return loaded_data"
   ]
  },
  {
   "cell_type": "code",
   "execution_count": 15,
   "metadata": {},
   "outputs": [],
   "source": [
    "# Program codes for midi instruments. Add more as necessary for filtering.\n",
    "program_codes = {\n",
    "    'VOICE_LEAD': 85,\n",
    "}\n",
    "\n",
    "def filter_data(data):\n",
    "    melodies = []\n",
    "    accompaniments = []\n",
    "    for midi in data:\n",
    "        melody = None\n",
    "        accompaniment = []\n",
    "        for i in midi.instruments:\n",
    "            if i.program == program_codes['VOICE_LEAD'] and not melody:\n",
    "                melody = i.notes\n",
    "            else:\n",
    "                accompaniment.append(i.notes)\n",
    "        if melody:\n",
    "            melodies.append(melody)\n",
    "            accompaniments.append(accompaniment)\n",
    "    return melodies, accompaniments"
   ]
  },
  {
   "cell_type": "code",
   "execution_count": 16,
   "metadata": {},
   "outputs": [],
   "source": [
    "melodies, accompaniments = filter_data(songs)"
   ]
  },
  {
   "cell_type": "code",
   "execution_count": 14,
   "metadata": {},
   "outputs": [],
   "source": [
    "# Convert notes to numeric sequences (pitch and timing encoding)\n",
    "def notes_to_sequences(notes, seq_length=50):\n",
    "    sequences = []\n",
    "    for i in range(0, len(notes) - seq_length):\n",
    "        seq = [(note.pitch, note.start, note.end) for note in notes[i:i+seq_length]]\n",
    "        sequences.append(seq)\n",
    "    return sequences"
   ]
  },
  {
   "cell_type": "code",
   "execution_count": 39,
   "metadata": {},
   "outputs": [],
   "source": [
    "# Process and convert notes to sequences\n",
    "seq_length = 50\n",
    "melody_sequences = [notes_to_sequences(m, seq_length) for m in melodies]\n",
    "accompaniment_sequences = [[notes_to_sequences(notes, seq_length) for notes in a] for a in accompaniments]\n",
    "print(len(melody_sequences))\n",
    "print(len(accompaniment_sequences))"
   ]
  },
  {
   "cell_type": "code",
   "execution_count": 41,
   "metadata": {},
   "outputs": [
    {
     "ename": "ValueError",
     "evalue": "setting an array element with a sequence. The requested array has an inhomogeneous shape after 1 dimensions. The detected shape was (488,) + inhomogeneous part.",
     "output_type": "error",
     "traceback": [
      "\u001b[0;31m---------------------------------------------------------------------------\u001b[0m",
      "\u001b[0;31mValueError\u001b[0m                                Traceback (most recent call last)",
      "Cell \u001b[0;32mIn[41], line 2\u001b[0m\n\u001b[1;32m      1\u001b[0m \u001b[39m# Flatten nested lists and pad sequences\u001b[39;00m\n\u001b[0;32m----> 2\u001b[0m melody_sequences \u001b[39m=\u001b[39m np\u001b[39m.\u001b[39;49marray([seq \u001b[39mfor\u001b[39;49;00m seq \u001b[39min\u001b[39;49;00m melody_sequences])\n\u001b[1;32m      3\u001b[0m accompaniment_sequences \u001b[39m=\u001b[39m np\u001b[39m.\u001b[39marray([seq \u001b[39mfor\u001b[39;00m track \u001b[39min\u001b[39;00m accompaniment_sequences \u001b[39mfor\u001b[39;00m seq \u001b[39min\u001b[39;00m track])\n",
      "\u001b[0;31mValueError\u001b[0m: setting an array element with a sequence. The requested array has an inhomogeneous shape after 1 dimensions. The detected shape was (488,) + inhomogeneous part."
     ]
    }
   ],
   "source": [
    "# Flatten nested lists and pad sequences\n",
    "melody_sequences = np.array([seq for sublist in melody_sequences for seq in sublist])\n",
    "accompaniment_sequences = np.array([seq for a in accompaniment_sequences for sublist in a for seq in sublist])"
   ]
  },
  {
   "cell_type": "code",
   "execution_count": 35,
   "metadata": {},
   "outputs": [],
   "source": [
    "# Normalize pitches for better training stability\n",
    "def normalize_sequences(sequences):\n",
    "    sequences = np.array(sequences)\n",
    "    pitch_data = sequences[..., 0]\n",
    "    timing_data = sequences[..., 1:]\n",
    "    pitch_data = pitch_data / 127.0  # Normalize pitch (MIDI range is 0-127)\n",
    "    return np.concatenate([pitch_data[..., None], timing_data], axis=-1)"
   ]
  },
  {
   "cell_type": "code",
   "execution_count": 36,
   "metadata": {},
   "outputs": [
    {
     "name": "stdout",
     "output_type": "stream",
     "text": [
      "Melody sequences shape: (13171200,)\n",
      "Accompaniment sequences shape: (117085550, 3)\n"
     ]
    }
   ],
   "source": [
    "print(f\"Melody sequences shape: {melody_sequences.shape}\")\n",
    "melody_sequences = normalize_sequences(melody_sequences)\n",
    "print(f\"Accompaniment sequences shape: {accompaniment_sequences.shape}\")\n",
    "accompaniment_sequences = normalize_sequences(accompaniment_sequences)"
   ]
  }
 ],
 "metadata": {
  "kernelspec": {
   "display_name": ".venv",
   "language": "python",
   "name": "python3"
  },
  "language_info": {
   "codemirror_mode": {
    "name": "ipython",
    "version": 3
   },
   "file_extension": ".py",
   "mimetype": "text/x-python",
   "name": "python",
   "nbconvert_exporter": "python",
   "pygments_lexer": "ipython3",
   "version": "3.12.4"
  },
  "orig_nbformat": 4
 },
 "nbformat": 4,
 "nbformat_minor": 2
}
