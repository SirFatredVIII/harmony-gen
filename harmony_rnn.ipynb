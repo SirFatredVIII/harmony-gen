{
 "cells": [
  {
   "cell_type": "code",
   "execution_count": null,
   "metadata": {},
   "outputs": [],
   "source": [
    "import tensorflow as tf\n",
    "from tensorflow.keras.models import Sequential\n",
    "from tensorflow.keras.layers import LSTM, Dense, TimeDistributed, Activation\n",
    "import numpy as np\n",
    "import pretty_midi\n",
    "import os\n",
    "import matplotlib.pyplot as plt"
   ]
  },
  {
   "cell_type": "code",
   "execution_count": null,
   "metadata": {},
   "outputs": [],
   "source": [
    "np.random.seed(42)\n",
    "tf.random.set_seed(42)"
   ]
  },
  {
   "cell_type": "code",
   "execution_count": null,
   "metadata": {},
   "outputs": [],
   "source": [
    "# CHANGE PATH AS NECESSARY\n",
    "PATH = 'music_data'"
   ]
  },
  {
   "cell_type": "code",
   "execution_count": null,
   "metadata": {},
   "outputs": [],
   "source": [
    "def load_midi_files(path):\n",
    "    \"\"\"\n",
    "    Given a filepath, loads all midi files in that filepath into midi objects and returns\n",
    "    a list of them.\n",
    "    Arguments:\n",
    "        path: the path to the list of midi files\n",
    "    Returns:\n",
    "        songs: a list of all MIDI objects that were successfully generated\n",
    "    \"\"\"\n",
    "    songs = []\n",
    "\n",
    "    for folder in os.listdir(path):\n",
    "        if folder == '..LICENSING':\n",
    "            continue\n",
    "        if not os.path.isdir(os.path.join(path, folder)):\n",
    "            continue\n",
    "        for file_name in os.listdir(os.path.join(path, folder)):\n",
    "            try:\n",
    "                midi = pretty_midi.PrettyMIDI(os.path.join(path, folder, file_name))\n",
    "                songs.append(midi)\n",
    "            except Exception as e:\n",
    "                continue\n",
    "    return songs"
   ]
  },
  {
   "cell_type": "code",
   "execution_count": null,
   "metadata": {},
   "outputs": [],
   "source": [
    "songs = load_midi_files(PATH)"
   ]
  },
  {
   "cell_type": "code",
   "execution_count": null,
   "metadata": {},
   "outputs": [],
   "source": [
    "from collections import defaultdict\n",
    "\n",
    "def get_codes_count():\n",
    "    \"\"\"\n",
    "    Returns a dictionary of MIDI instrument codes (i.e. 0 for Grand Piano, etc.) mapped to the amount\n",
    "    of times they appear in the dataset.\n",
    "\n",
    "    For example, if 500 songs in the dataset contain a lead vocal (code 85), 85 should map to 500.\n",
    "\n",
    "    Returns:\n",
    "        codes_count:\n",
    "            a list of all codes found mapped to their occurences in the dataset\n",
    "    \"\"\"\n",
    "    program_count = defaultdict(int)\n",
    "    for song in songs:\n",
    "        unique_programs = {instrument.program for instrument in song.instruments}\n",
    "        for program in unique_programs:\n",
    "            program_count[program] += 1\n",
    "\n",
    "    return dict(program_count)\n",
    "\n",
    "codes = get_codes_count()\n",
    "print(sorted(codes, key=codes.get, reverse=True))"
   ]
  },
  {
   "cell_type": "code",
   "execution_count": null,
   "metadata": {},
   "outputs": [],
   "source": [
    "# Program codes for midi instruments. Add more as necessary for filtering.\n",
    "program_codes = {\n",
    "    'VOICE_LEAD': 85,\n",
    "    'GRAND_PIANO': 0,\n",
    "}\n",
    "\n",
    "def filter_data(data):\n",
    "    \"\"\"\n",
    "    Filters the data into melody and accompaniment. Melody is the track with a lead voice program \n",
    "    code. If there is no lead voice instrument, ignore the file. The accompaniment is composed of all \n",
    "    other tracks.\n",
    "\n",
    "    Arguments:\n",
    "        data: the set of all songs \n",
    "\n",
    "    Returns: \n",
    "        the set of all voice lead tracks for all available songs\n",
    "    \"\"\"\n",
    "    melodies = []\n",
    "    accompaniments = []\n",
    "    for midi in data:\n",
    "        melody = None\n",
    "        accompaniment = None\n",
    "        for i in midi.instruments:\n",
    "            if i.program == program_codes['VOICE_LEAD'] and not melody:\n",
    "                melody = i.notes\n",
    "            elif i.program == program_codes['GRAND_PIANO'] and not accompaniment:\n",
    "                accompaniment = i.notes\n",
    "        if melody:\n",
    "            melodies.append(melody)\n",
    "            if accompaniment == None:\n",
    "                accompaniment = i.notes\n",
    "            accompaniments.append(accompaniment)\n",
    "    return melodies, accompaniments"
   ]
  },
  {
   "cell_type": "code",
   "execution_count": null,
   "metadata": {},
   "outputs": [],
   "source": [
    "melodies, accompaniments = filter_data(songs)"
   ]
  },
  {
   "cell_type": "code",
   "execution_count": null,
   "metadata": {},
   "outputs": [],
   "source": [
    "import pickle\n",
    "\n",
    "def save_data(data):\n",
    "    with open('music_data.pkl', 'wb') as f:\n",
    "        pickle.dump(data, f)\n",
    "\n",
    "def load_data():\n",
    "    with open('music_data.pkl', 'rb') as f:\n",
    "        loaded_data = pickle.load(f)\n",
    "    return loaded_data"
   ]
  },
  {
   "cell_type": "code",
   "execution_count": null,
   "metadata": {},
   "outputs": [],
   "source": [
    "save_data((melodies, accompaniments))"
   ]
  },
  {
   "cell_type": "code",
   "execution_count": null,
   "metadata": {},
   "outputs": [],
   "source": [
    "# Convert notes to numeric sequences (pitch and timing encoding)\n",
    "def notes_to_sequences(notes, seq_length=50):\n",
    "    sequences = []\n",
    "    for i in range(0, len(notes) - seq_length):\n",
    "        seq = [(note.pitch, note.start, note.end) for note in notes[i:i+seq_length]]\n",
    "        sequences.append(seq)\n",
    "    return sequences"
   ]
  },
  {
   "cell_type": "code",
   "execution_count": null,
   "metadata": {},
   "outputs": [],
   "source": [
    "# Process and convert notes to sequences\n",
    "seq_length = 50\n",
    "melody_sequences = [notes_to_sequences(m, seq_length) for m in melodies]\n",
    "accompaniment_sequences = [notes_to_sequences(a, seq_length) for a in accompaniments]"
   ]
  },
  {
   "cell_type": "code",
   "execution_count": null,
   "metadata": {},
   "outputs": [],
   "source": [
    "# Flatten nested lists and pad sequences\n",
    "melody_sequences = np.array([seq for sublist in melody_sequences for seq in sublist])\n",
    "accompaniment_sequences = np.array([seq for sublist in accompaniment_sequences for seq in sublist])"
   ]
  },
  {
   "cell_type": "code",
   "execution_count": null,
   "metadata": {},
   "outputs": [],
   "source": [
    "# Normalize pitches for better training stability\n",
    "def normalize_sequences(sequences):\n",
    "    sequences = np.array(sequences)\n",
    "    pitch_data = sequences[..., 0]\n",
    "    timing_data = sequences[..., 1:]\n",
    "    pitch_data = pitch_data / 127.0  # Normalize pitch (MIDI range is 0-127)\n",
    "    return np.concatenate([pitch_data[..., None], timing_data], axis=-1)"
   ]
  },
  {
   "cell_type": "code",
   "execution_count": null,
   "metadata": {},
   "outputs": [],
   "source": [
    "melody_sequences = normalize_sequences(melody_sequences)\n",
    "accompaniment_sequences = normalize_sequences(accompaniment_sequences)"
   ]
  }
 ],
 "metadata": {
  "kernelspec": {
   "display_name": ".venv",
   "language": "python",
   "name": "python3"
  },
  "language_info": {
   "codemirror_mode": {
    "name": "ipython",
    "version": 3
   },
   "file_extension": ".py",
   "mimetype": "text/x-python",
   "name": "python",
   "nbconvert_exporter": "python",
   "pygments_lexer": "ipython3",
   "version": "3.12.2"
  },
  "orig_nbformat": 4
 },
 "nbformat": 4,
 "nbformat_minor": 2
}
